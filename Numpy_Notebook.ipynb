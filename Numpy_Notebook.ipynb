{
  "nbformat": 4,
  "nbformat_minor": 0,
  "metadata": {
    "colab": {
      "provenance": [],
      "authorship_tag": "ABX9TyPDDE2QYYTmFzzeuKZy1xbx",
      "include_colab_link": true
    },
    "kernelspec": {
      "name": "python3",
      "display_name": "Python 3"
    },
    "language_info": {
      "name": "python"
    }
  },
  "cells": [
    {
      "cell_type": "markdown",
      "metadata": {
        "id": "view-in-github",
        "colab_type": "text"
      },
      "source": [
        "<a href=\"https://colab.research.google.com/github/Abhinavanand56/Machine-Learning-Notebook/blob/main/Numpy_Notebook.ipynb\" target=\"_parent\"><img src=\"https://colab.research.google.com/assets/colab-badge.svg\" alt=\"Open In Colab\"/></a>"
      ]
    },
    {
      "cell_type": "markdown",
      "source": [
        "NumPy - Numerical Python\n",
        "\n",
        "Advantages in Numpy Arrays:\n",
        "\n",
        "1. Allows several Mathematical Operations\n",
        "2. Faster Operations"
      ],
      "metadata": {
        "id": "iC6kim3uDf9p"
      }
    },
    {
      "cell_type": "code",
      "execution_count": 4,
      "metadata": {
        "id": "-27MqDVsDWDK"
      },
      "outputs": [],
      "source": [
        "import numpy as np"
      ]
    },
    {
      "cell_type": "code",
      "source": [
        "#list vs numpy time taken\n",
        "from time import process_time"
      ],
      "metadata": {
        "id": "KM_wGncSDwxS"
      },
      "execution_count": 5,
      "outputs": []
    },
    {
      "cell_type": "code",
      "source": [
        "#time taken by a list\n",
        "python_list = [i for i in range(1000000)]\n",
        "\n",
        "start_time = process_time()\n",
        "\n",
        "python_list = [i+5 for i in python_list]\n",
        "\n",
        "end_time = process_time()\n",
        "\n",
        "print(end_time - start_time)"
      ],
      "metadata": {
        "colab": {
          "base_uri": "https://localhost:8080/"
        },
        "id": "UPzyvQOTEDzj",
        "outputId": "4985677b-35ad-428d-fe61-e6f95ee5bfa7"
      },
      "execution_count": 8,
      "outputs": [
        {
          "output_type": "stream",
          "name": "stdout",
          "text": [
            "0.08068630100000007\n"
          ]
        }
      ]
    },
    {
      "cell_type": "code",
      "source": [
        "np_array = np.array([i for i in range(1000000)])\n",
        "\n",
        "start_time  = process_time()\n",
        "\n",
        "np_array += 5\n",
        "\n",
        "end_time = process_time()\n",
        "\n",
        "print(end_time - start_time)"
      ],
      "metadata": {
        "colab": {
          "base_uri": "https://localhost:8080/"
        },
        "id": "mbmk-bi5EnYn",
        "outputId": "48582daa-215e-4ea7-e596-6bfa2eb3c42e"
      },
      "execution_count": 11,
      "outputs": [
        {
          "output_type": "stream",
          "name": "stdout",
          "text": [
            "0.0011945909999973026\n"
          ]
        }
      ]
    },
    {
      "cell_type": "code",
      "source": [
        "#list\n",
        "list1 = [1,2,3,4,5]\n",
        "print(list1)\n",
        "type(list1)"
      ],
      "metadata": {
        "colab": {
          "base_uri": "https://localhost:8080/"
        },
        "id": "ix8rs04BFPED",
        "outputId": "50ab950f-e32f-4e35-90f1-67410b0827ea"
      },
      "execution_count": 12,
      "outputs": [
        {
          "output_type": "stream",
          "name": "stdout",
          "text": [
            "[1, 2, 3, 4, 5]\n"
          ]
        },
        {
          "output_type": "execute_result",
          "data": {
            "text/plain": [
              "list"
            ]
          },
          "metadata": {},
          "execution_count": 12
        }
      ]
    },
    {
      "cell_type": "code",
      "source": [
        "np_array = np.array([1,2,3,4,5])\n",
        "print(np_array)\n",
        "type(np_array)"
      ],
      "metadata": {
        "colab": {
          "base_uri": "https://localhost:8080/"
        },
        "id": "qspIdl1pLyer",
        "outputId": "d70a44cc-f09d-481a-9341-04b6fa992b51"
      },
      "execution_count": 13,
      "outputs": [
        {
          "output_type": "stream",
          "name": "stdout",
          "text": [
            "[1 2 3 4 5]\n"
          ]
        },
        {
          "output_type": "execute_result",
          "data": {
            "text/plain": [
              "numpy.ndarray"
            ]
          },
          "metadata": {},
          "execution_count": 13
        }
      ]
    },
    {
      "cell_type": "code",
      "source": [
        "#creating a 1D array\n",
        "a = np.array([1,2,3,4,5])\n",
        "print(a)"
      ],
      "metadata": {
        "colab": {
          "base_uri": "https://localhost:8080/"
        },
        "id": "tXdlN4_PL7ys",
        "outputId": "6df3dfcd-5a0f-448b-ea95-ac4d07587588"
      },
      "execution_count": 14,
      "outputs": [
        {
          "output_type": "stream",
          "name": "stdout",
          "text": [
            "[1 2 3 4 5]\n"
          ]
        }
      ]
    },
    {
      "cell_type": "code",
      "source": [
        "a.shape"
      ],
      "metadata": {
        "colab": {
          "base_uri": "https://localhost:8080/"
        },
        "id": "TJDiVcgFMIJs",
        "outputId": "31429b6f-5596-4bad-d350-fdaf4d91129d"
      },
      "execution_count": 15,
      "outputs": [
        {
          "output_type": "execute_result",
          "data": {
            "text/plain": [
              "(5,)"
            ]
          },
          "metadata": {},
          "execution_count": 15
        }
      ]
    },
    {
      "cell_type": "code",
      "source": [
        "b =  np.array([(1,2,3,4),(5,6,7,8)])\n",
        "print(b)"
      ],
      "metadata": {
        "colab": {
          "base_uri": "https://localhost:8080/"
        },
        "id": "5BRokHUNMJVv",
        "outputId": "b51a0722-bed9-4d71-a0ae-f1f01d3c8459"
      },
      "execution_count": 16,
      "outputs": [
        {
          "output_type": "stream",
          "name": "stdout",
          "text": [
            "[[1 2 3 4]\n",
            " [5 6 7 8]]\n"
          ]
        }
      ]
    },
    {
      "cell_type": "code",
      "source": [
        "b.shape"
      ],
      "metadata": {
        "colab": {
          "base_uri": "https://localhost:8080/"
        },
        "id": "5Z1ckkKOMVRE",
        "outputId": "f33ac97f-401c-4089-e7b9-9d17cf00d47e"
      },
      "execution_count": 17,
      "outputs": [
        {
          "output_type": "execute_result",
          "data": {
            "text/plain": [
              "(2, 4)"
            ]
          },
          "metadata": {},
          "execution_count": 17
        }
      ]
    },
    {
      "cell_type": "code",
      "source": [
        "c = np.array([(1,2,3,4),(5,6,7,8)],dtype = float)\n",
        "print(c)"
      ],
      "metadata": {
        "colab": {
          "base_uri": "https://localhost:8080/"
        },
        "id": "hMZ8CE4rMYdt",
        "outputId": "0eb81cb9-0e62-4d9b-ff1d-429b1e2c1537"
      },
      "execution_count": 18,
      "outputs": [
        {
          "output_type": "stream",
          "name": "stdout",
          "text": [
            "[[1. 2. 3. 4.]\n",
            " [5. 6. 7. 8.]]\n"
          ]
        }
      ]
    },
    {
      "cell_type": "code",
      "source": [
        "#Initial palceholders in aaray\n",
        "#create a numpy array of zeros\n",
        "x = np.zeros((4,5))\n",
        "print(x)"
      ],
      "metadata": {
        "colab": {
          "base_uri": "https://localhost:8080/"
        },
        "id": "gMw8Hc4nRvld",
        "outputId": "046748ab-15e5-497f-b9d5-f29b3a583aaa"
      },
      "execution_count": 20,
      "outputs": [
        {
          "output_type": "stream",
          "name": "stdout",
          "text": [
            "[[0. 0. 0. 0. 0.]\n",
            " [0. 0. 0. 0. 0.]\n",
            " [0. 0. 0. 0. 0.]\n",
            " [0. 0. 0. 0. 0.]]\n"
          ]
        }
      ]
    },
    {
      "cell_type": "code",
      "source": [
        "y = np.ones((4,5))\n",
        "print(y)"
      ],
      "metadata": {
        "colab": {
          "base_uri": "https://localhost:8080/"
        },
        "id": "t6gB3LbnR-xb",
        "outputId": "b1a3ba77-7698-467c-8309-d0c4790b100e"
      },
      "execution_count": 23,
      "outputs": [
        {
          "output_type": "stream",
          "name": "stdout",
          "text": [
            "[[1. 1. 1. 1. 1.]\n",
            " [1. 1. 1. 1. 1.]\n",
            " [1. 1. 1. 1. 1.]\n",
            " [1. 1. 1. 1. 1.]]\n"
          ]
        }
      ]
    },
    {
      "cell_type": "code",
      "source": [
        "z = np.full((5,4),3)\n",
        "print(z)"
      ],
      "metadata": {
        "colab": {
          "base_uri": "https://localhost:8080/"
        },
        "id": "Y42x5GddSFlJ",
        "outputId": "3a496c32-fc99-43e7-8be4-0cdbae2c7fa3"
      },
      "execution_count": 25,
      "outputs": [
        {
          "output_type": "stream",
          "name": "stdout",
          "text": [
            "[[3 3 3 3]\n",
            " [3 3 3 3]\n",
            " [3 3 3 3]\n",
            " [3 3 3 3]\n",
            " [3 3 3 3]]\n"
          ]
        }
      ]
    },
    {
      "cell_type": "code",
      "source": [
        "#creating a indentity matrix\n",
        "a = np.eye(4)\n",
        "print(a)"
      ],
      "metadata": {
        "colab": {
          "base_uri": "https://localhost:8080/"
        },
        "id": "NK87IzZMSQgY",
        "outputId": "c032f324-8aa6-46cb-ef83-7457952f6b58"
      },
      "execution_count": 27,
      "outputs": [
        {
          "output_type": "stream",
          "name": "stdout",
          "text": [
            "[[1. 0. 0. 0.]\n",
            " [0. 1. 0. 0.]\n",
            " [0. 0. 1. 0.]\n",
            " [0. 0. 0. 1.]]\n"
          ]
        }
      ]
    },
    {
      "cell_type": "code",
      "source": [
        "#create  a numpy array of random values\n",
        "b = np.random.random((3,4))\n",
        "print(b)"
      ],
      "metadata": {
        "colab": {
          "base_uri": "https://localhost:8080/"
        },
        "id": "ifek3ZFbSZ34",
        "outputId": "65dbbf8f-000b-4a90-9267-7232aa1e4e0d"
      },
      "execution_count": 7,
      "outputs": [
        {
          "output_type": "stream",
          "name": "stdout",
          "text": [
            "[[0.37372262 0.85296145 0.3602293  0.36478985]\n",
            " [0.3673962  0.49713163 0.35882137 0.89590399]\n",
            " [0.77723841 0.96152158 0.93027867 0.39838867]]\n"
          ]
        }
      ]
    },
    {
      "cell_type": "code",
      "source": [
        "#random integer values within a specific range\n",
        "c = np.random.randint(10,120,(3,5))\n",
        "print(c)"
      ],
      "metadata": {
        "colab": {
          "base_uri": "https://localhost:8080/"
        },
        "id": "LWkyZVwG-dYL",
        "outputId": "06be2c6d-424d-4e9d-90e3-63d55eeb63cb"
      },
      "execution_count": 11,
      "outputs": [
        {
          "output_type": "stream",
          "name": "stdout",
          "text": [
            "[[ 35  24 101 106  92]\n",
            " [ 40  80  36 101  34]\n",
            " [ 24  39  56  89  95]]\n"
          ]
        }
      ]
    },
    {
      "cell_type": "code",
      "source": [
        "#array fo evenly spaced values\n",
        "d = np.linspace(10,30,9)"
      ],
      "metadata": {
        "id": "dWL8gwDK-1q2"
      },
      "execution_count": 14,
      "outputs": []
    },
    {
      "cell_type": "code",
      "source": [
        "print(d)"
      ],
      "metadata": {
        "colab": {
          "base_uri": "https://localhost:8080/"
        },
        "id": "j7u5C3OK_G3e",
        "outputId": "005fdded-8532-4a01-8f6f-5a7932d397c9"
      },
      "execution_count": 15,
      "outputs": [
        {
          "output_type": "stream",
          "name": "stdout",
          "text": [
            "[10.  12.5 15.  17.5 20.  22.5 25.  27.5 30. ]\n"
          ]
        }
      ]
    },
    {
      "cell_type": "code",
      "source": [
        "#cinverting a list to numpy array\n",
        "list2 = [10,20,30,40,50]\n",
        "\n",
        "np_array = np.asarray(list2)\n",
        "print(np_array)\n",
        "type(np_array)"
      ],
      "metadata": {
        "colab": {
          "base_uri": "https://localhost:8080/"
        },
        "id": "RHfYWwGQ_IEB",
        "outputId": "f606c832-1a0a-4e1e-9a59-eb3d618ca040"
      },
      "execution_count": 6,
      "outputs": [
        {
          "output_type": "stream",
          "name": "stdout",
          "text": [
            "[10 20 30 40 50]\n"
          ]
        },
        {
          "output_type": "execute_result",
          "data": {
            "text/plain": [
              "numpy.ndarray"
            ]
          },
          "metadata": {},
          "execution_count": 6
        }
      ]
    },
    {
      "cell_type": "code",
      "source": [
        "#Analysing a numpy array\n",
        "c = np.random.randint(10,90,(5,5))\n",
        "print(c)"
      ],
      "metadata": {
        "colab": {
          "base_uri": "https://localhost:8080/"
        },
        "id": "Xfd9ZQjAHiwv",
        "outputId": "9fdfe40a-1cfe-468f-dffa-1d8a1c870759"
      },
      "execution_count": 8,
      "outputs": [
        {
          "output_type": "stream",
          "name": "stdout",
          "text": [
            "[[40 32 50 85 35]\n",
            " [77 37 56 69 10]\n",
            " [34 60 58 87 15]\n",
            " [89 48 79 78 72]\n",
            " [76 13 80 69 57]]\n"
          ]
        }
      ]
    },
    {
      "cell_type": "code",
      "source": [
        "#array dimension\n",
        "print(c.shape)"
      ],
      "metadata": {
        "colab": {
          "base_uri": "https://localhost:8080/"
        },
        "id": "-frmdENEH1hK",
        "outputId": "48c204bd-a38c-49fc-fa5c-73538b1b9ddd"
      },
      "execution_count": 9,
      "outputs": [
        {
          "output_type": "stream",
          "name": "stdout",
          "text": [
            "(5, 5)\n"
          ]
        }
      ]
    },
    {
      "cell_type": "code",
      "source": [
        "#no. of dimension\n",
        "print(c.ndim)"
      ],
      "metadata": {
        "colab": {
          "base_uri": "https://localhost:8080/"
        },
        "id": "QnsChAkvH7qr",
        "outputId": "91170b0f-29f1-41bc-adbe-c4927e23cfde"
      },
      "execution_count": 10,
      "outputs": [
        {
          "output_type": "stream",
          "name": "stdout",
          "text": [
            "2\n"
          ]
        }
      ]
    },
    {
      "cell_type": "code",
      "source": [
        "#checking the number of elements in an aaray\n",
        "print(c.size)"
      ],
      "metadata": {
        "colab": {
          "base_uri": "https://localhost:8080/"
        },
        "id": "HYoDIM-NIANu",
        "outputId": "c9326a90-8112-4fe5-f305-bd1b9d77b6b4"
      },
      "execution_count": 11,
      "outputs": [
        {
          "output_type": "stream",
          "name": "stdout",
          "text": [
            "25\n"
          ]
        }
      ]
    },
    {
      "cell_type": "code",
      "source": [
        "#checking the data type present in the array\n",
        "print(c.dtype)"
      ],
      "metadata": {
        "colab": {
          "base_uri": "https://localhost:8080/"
        },
        "id": "QNMKLRSuIHGk",
        "outputId": "158cfee7-dd2b-4afc-ca7a-7557f03792b8"
      },
      "execution_count": 12,
      "outputs": [
        {
          "output_type": "stream",
          "name": "stdout",
          "text": [
            "int64\n"
          ]
        }
      ]
    },
    {
      "cell_type": "code",
      "source": [
        "#Mathematical Operations on np aaray\n",
        "list1 = [1,2,3,4,5]\n",
        "list2 = [6,7,8,9,10]\n",
        "\n",
        "print(list1 + list2) # + sign will concatenate or join the two list"
      ],
      "metadata": {
        "colab": {
          "base_uri": "https://localhost:8080/"
        },
        "id": "tdlQGk1LILk7",
        "outputId": "6344ec72-17af-4ebd-e32a-ba13283a6c45"
      },
      "execution_count": 13,
      "outputs": [
        {
          "output_type": "stream",
          "name": "stdout",
          "text": [
            "[1, 2, 3, 4, 5, 6, 7, 8, 9, 10]\n"
          ]
        }
      ]
    },
    {
      "cell_type": "code",
      "source": [
        "a = np.random.randint(0,10,(3,3))\n",
        "b = np.random.randint(10,20,(3,3))\n",
        "print(a)\n",
        "print(b)\n",
        "#thing to notice random integer values can be of same values in a np array same values"
      ],
      "metadata": {
        "colab": {
          "base_uri": "https://localhost:8080/"
        },
        "id": "rtrbmcndIYAX",
        "outputId": "3340b6d4-61fd-47b4-8701-3728e83b2cfc"
      },
      "execution_count": 14,
      "outputs": [
        {
          "output_type": "stream",
          "name": "stdout",
          "text": [
            "[[8 2 4]\n",
            " [7 3 7]\n",
            " [1 7 7]]\n",
            "[[12 16 10]\n",
            " [11 17 11]\n",
            " [12 11 18]]\n"
          ]
        }
      ]
    },
    {
      "cell_type": "code",
      "source": [
        "print(a+b)\n",
        "print(a-b)\n",
        "print(a*b)\n",
        "print(a/b)"
      ],
      "metadata": {
        "colab": {
          "base_uri": "https://localhost:8080/"
        },
        "id": "DNnJDgO3ItWA",
        "outputId": "5434619e-a978-4910-8ad2-be3bb3db775b"
      },
      "execution_count": 16,
      "outputs": [
        {
          "output_type": "stream",
          "name": "stdout",
          "text": [
            "[[20 18 14]\n",
            " [18 20 18]\n",
            " [13 18 25]]\n",
            "[[ -4 -14  -6]\n",
            " [ -4 -14  -4]\n",
            " [-11  -4 -11]]\n",
            "[[ 96  32  40]\n",
            " [ 77  51  77]\n",
            " [ 12  77 126]]\n",
            "[[0.66666667 0.125      0.4       ]\n",
            " [0.63636364 0.17647059 0.63636364]\n",
            " [0.08333333 0.63636364 0.38888889]]\n"
          ]
        }
      ]
    },
    {
      "cell_type": "code",
      "source": [
        "a = np.random.randint(0,10,(3,3))\n",
        "b = np.random.randint(10,20,(3,3))\n",
        "print(a)\n",
        "print(b)\n",
        "print(np.add(a,b))\n",
        "print(np.subtract(a,b))\n",
        "print(np.multiply(a,b))\n",
        "print(np.divide(a,b))"
      ],
      "metadata": {
        "colab": {
          "base_uri": "https://localhost:8080/"
        },
        "id": "Xyzf9xjwI3iP",
        "outputId": "9f69a9ea-f99e-4870-c628-43608f94feac"
      },
      "execution_count": 19,
      "outputs": [
        {
          "output_type": "stream",
          "name": "stdout",
          "text": [
            "[[3 0 0]\n",
            " [4 0 7]\n",
            " [9 8 6]]\n",
            "[[19 19 15]\n",
            " [11 18 17]\n",
            " [13 15 11]]\n",
            "[[22 19 15]\n",
            " [15 18 24]\n",
            " [22 23 17]]\n",
            "[[-16 -19 -15]\n",
            " [ -7 -18 -10]\n",
            " [ -4  -7  -5]]\n",
            "[[ 57   0   0]\n",
            " [ 44   0 119]\n",
            " [117 120  66]]\n",
            "[[0.15789474 0.         0.        ]\n",
            " [0.36363636 0.         0.41176471]\n",
            " [0.69230769 0.53333333 0.54545455]]\n"
          ]
        }
      ]
    },
    {
      "cell_type": "code",
      "source": [
        "#array manipulation\n",
        "array = np.random.randint(0,10,(2,3))\n",
        "print(array)\n",
        "print(array.shape)"
      ],
      "metadata": {
        "colab": {
          "base_uri": "https://localhost:8080/"
        },
        "id": "ewrFU_GeJEca",
        "outputId": "af0a7674-2c41-4f5d-d0f8-0a5ecfef5d12"
      },
      "execution_count": 23,
      "outputs": [
        {
          "output_type": "stream",
          "name": "stdout",
          "text": [
            "[[3 9 7]\n",
            " [8 4 7]]\n",
            "(2, 3)\n"
          ]
        }
      ]
    },
    {
      "cell_type": "code",
      "source": [
        "trans = np.transpose(array)\n",
        "print(trans)\n",
        "print(trans.shape)"
      ],
      "metadata": {
        "colab": {
          "base_uri": "https://localhost:8080/"
        },
        "id": "RqZdIZswJhBm",
        "outputId": "c2d7893b-cfb6-45be-afdf-d88f66c80bde"
      },
      "execution_count": 24,
      "outputs": [
        {
          "output_type": "stream",
          "name": "stdout",
          "text": [
            "[[3 8]\n",
            " [9 4]\n",
            " [7 7]]\n",
            "(3, 2)\n"
          ]
        }
      ]
    },
    {
      "cell_type": "code",
      "source": [
        "trans2 = array.T\n",
        "print(trans2)\n",
        "print(trans2.shape)"
      ],
      "metadata": {
        "colab": {
          "base_uri": "https://localhost:8080/"
        },
        "id": "xFpPGpqrJorD",
        "outputId": "192b3c5f-8b62-4127-e556-3daf6c3a15dd"
      },
      "execution_count": 25,
      "outputs": [
        {
          "output_type": "stream",
          "name": "stdout",
          "text": [
            "[[3 8]\n",
            " [9 4]\n",
            " [7 7]]\n",
            "(3, 2)\n"
          ]
        }
      ]
    },
    {
      "cell_type": "code",
      "source": [
        "#reshaping an array\n",
        "a = np.random.randint(0,10,(2,3))\n",
        "print(a)\n",
        "print(a.shape)"
      ],
      "metadata": {
        "colab": {
          "base_uri": "https://localhost:8080/"
        },
        "id": "lHwyCHnWJuyk",
        "outputId": "2af5c097-d616-44d1-d48e-4b838c4011c5"
      },
      "execution_count": 26,
      "outputs": [
        {
          "output_type": "stream",
          "name": "stdout",
          "text": [
            "[[2 5 5]\n",
            " [9 7 8]]\n",
            "(2, 3)\n"
          ]
        }
      ]
    },
    {
      "cell_type": "code",
      "source": [
        "b = a.reshape(1,6)\n",
        "print(b)\n",
        "print(b.shape)"
      ],
      "metadata": {
        "colab": {
          "base_uri": "https://localhost:8080/"
        },
        "id": "Q8RSJ_7vJ6wT",
        "outputId": "7cbe365b-3390-4add-e585-b8a6eb842a2e"
      },
      "execution_count": 29,
      "outputs": [
        {
          "output_type": "stream",
          "name": "stdout",
          "text": [
            "[[2 5 5 9 7 8]]\n",
            "(1, 6)\n"
          ]
        }
      ]
    },
    {
      "cell_type": "code",
      "source": [],
      "metadata": {
        "id": "4MVcFHR8J9zh"
      },
      "execution_count": null,
      "outputs": []
    }
  ]
}